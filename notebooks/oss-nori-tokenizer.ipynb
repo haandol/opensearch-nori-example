{
 "cells": [
  {
   "cell_type": "code",
   "execution_count": null,
   "id": "cdffa2f4-59ff-4063-9051-e0e8f5039533",
   "metadata": {},
   "outputs": [],
   "source": [
    "!pip -q install opensearch-py requests -U"
   ]
  },
  {
   "cell_type": "markdown",
   "id": "91c35f05-b0eb-4ed1-8400-0e245b05f901",
   "metadata": {},
   "source": [
    "# 한글 데이터 인덱싱 비교\n",
    "\n",
    "- 한글 데이터를 한글 토크나이저 유무에 따라 비교\n",
    "\n",
    "## 1. 로컬에 Opensearch 띄우기\n",
    "\n",
    "프로젝트 루트 폴더에서 아래 명령을 통해 도커로 Opensearch 를 실행한다.\n",
    "\n",
    "```bash\n",
    "$ docker compose up -d\n",
    "```"
   ]
  },
  {
   "cell_type": "markdown",
   "id": "81fa3906-7764-4d49-b918-82aa98719a1d",
   "metadata": {},
   "source": [
    "## 2. 형태소 분석\n",
    "\n",
    "- `_analyze` 엔드포인트를 통해 분석결과를 미리 확인해볼 수 있다."
   ]
  },
  {
   "cell_type": "code",
   "execution_count": 82,
   "id": "184924d3-eed4-48d9-881c-b1a4548683c0",
   "metadata": {},
   "outputs": [],
   "source": [
    "import requests"
   ]
  },
  {
   "cell_type": "code",
   "execution_count": 83,
   "id": "8047c5a8-6bf3-420a-982b-24a127faf5c7",
   "metadata": {},
   "outputs": [],
   "source": [
    "host = 'localhost'\n",
    "port = 9200"
   ]
  },
  {
   "cell_type": "code",
   "execution_count": 84,
   "id": "430319ac-1176-429f-a08d-39cf951124a2",
   "metadata": {},
   "outputs": [
    {
     "data": {
      "text/plain": [
       "'http://localhost:9200/_analyze'"
      ]
     },
     "execution_count": 84,
     "metadata": {},
     "output_type": "execute_result"
    }
   ],
   "source": [
    "url = f\"http://{host}:{port}/_analyze\"\n",
    "url"
   ]
  },
  {
   "cell_type": "code",
   "execution_count": 85,
   "id": "519250af-d313-4472-9042-295d545d036e",
   "metadata": {},
   "outputs": [],
   "source": [
    "text = \"<b>이천이십삼년 韓國</b>, 뿌리가 깊은 나무는 바람에 흔들리지 않는다\""
   ]
  },
  {
   "cell_type": "markdown",
   "id": "a01e497f-479a-416b-85e0-3c8557e13a50",
   "metadata": {},
   "source": [
    "- 내장 형태소 분석기"
   ]
  },
  {
   "cell_type": "code",
   "execution_count": 86,
   "id": "cd2209f5-d970-48ab-bea2-5eda7374adfa",
   "metadata": {},
   "outputs": [
    {
     "data": {
      "text/plain": [
       "{'tokens': [{'token': 'b',\n",
       "   'start_offset': 1,\n",
       "   'end_offset': 2,\n",
       "   'type': '<ALPHANUM>',\n",
       "   'position': 0},\n",
       "  {'token': '이천이십삼년',\n",
       "   'start_offset': 3,\n",
       "   'end_offset': 9,\n",
       "   'type': '<HANGUL>',\n",
       "   'position': 1},\n",
       "  {'token': '韓',\n",
       "   'start_offset': 10,\n",
       "   'end_offset': 11,\n",
       "   'type': '<IDEOGRAPHIC>',\n",
       "   'position': 2},\n",
       "  {'token': '國',\n",
       "   'start_offset': 11,\n",
       "   'end_offset': 12,\n",
       "   'type': '<IDEOGRAPHIC>',\n",
       "   'position': 3},\n",
       "  {'token': 'b',\n",
       "   'start_offset': 14,\n",
       "   'end_offset': 15,\n",
       "   'type': '<ALPHANUM>',\n",
       "   'position': 4},\n",
       "  {'token': '뿌리가',\n",
       "   'start_offset': 18,\n",
       "   'end_offset': 21,\n",
       "   'type': '<HANGUL>',\n",
       "   'position': 5},\n",
       "  {'token': '깊은',\n",
       "   'start_offset': 22,\n",
       "   'end_offset': 24,\n",
       "   'type': '<HANGUL>',\n",
       "   'position': 6},\n",
       "  {'token': '나무는',\n",
       "   'start_offset': 25,\n",
       "   'end_offset': 28,\n",
       "   'type': '<HANGUL>',\n",
       "   'position': 7},\n",
       "  {'token': '바람에',\n",
       "   'start_offset': 29,\n",
       "   'end_offset': 32,\n",
       "   'type': '<HANGUL>',\n",
       "   'position': 8},\n",
       "  {'token': '흔들리지',\n",
       "   'start_offset': 33,\n",
       "   'end_offset': 37,\n",
       "   'type': '<HANGUL>',\n",
       "   'position': 9},\n",
       "  {'token': '않는다',\n",
       "   'start_offset': 38,\n",
       "   'end_offset': 41,\n",
       "   'type': '<HANGUL>',\n",
       "   'position': 10}]}"
      ]
     },
     "execution_count": 86,
     "metadata": {},
     "output_type": "execute_result"
    }
   ],
   "source": [
    "requests.get(url, json={\"analyzer\": \"standard\", \"text\": text}).json()"
   ]
  },
  {
   "cell_type": "markdown",
   "id": "6361b37c-140b-49f0-b6d5-9603ad6f9a54",
   "metadata": {},
   "source": [
    "- 노리(Nori) 한글 형태소 분석기"
   ]
  },
  {
   "cell_type": "code",
   "execution_count": 87,
   "id": "b823ea22-60e4-48a0-998b-57f0ec77796c",
   "metadata": {},
   "outputs": [
    {
     "data": {
      "text/plain": [
       "{'tokens': [{'token': 'b',\n",
       "   'start_offset': 1,\n",
       "   'end_offset': 2,\n",
       "   'type': 'word',\n",
       "   'position': 0},\n",
       "  {'token': '천',\n",
       "   'start_offset': 4,\n",
       "   'end_offset': 5,\n",
       "   'type': 'word',\n",
       "   'position': 2},\n",
       "  {'token': '이',\n",
       "   'start_offset': 5,\n",
       "   'end_offset': 6,\n",
       "   'type': 'word',\n",
       "   'position': 3},\n",
       "  {'token': '십',\n",
       "   'start_offset': 6,\n",
       "   'end_offset': 7,\n",
       "   'type': 'word',\n",
       "   'position': 4},\n",
       "  {'token': '삼',\n",
       "   'start_offset': 7,\n",
       "   'end_offset': 8,\n",
       "   'type': 'word',\n",
       "   'position': 5},\n",
       "  {'token': '년',\n",
       "   'start_offset': 8,\n",
       "   'end_offset': 9,\n",
       "   'type': 'word',\n",
       "   'position': 6},\n",
       "  {'token': '한국',\n",
       "   'start_offset': 10,\n",
       "   'end_offset': 12,\n",
       "   'type': 'word',\n",
       "   'position': 7},\n",
       "  {'token': 'b',\n",
       "   'start_offset': 14,\n",
       "   'end_offset': 15,\n",
       "   'type': 'word',\n",
       "   'position': 8},\n",
       "  {'token': '뿌리',\n",
       "   'start_offset': 18,\n",
       "   'end_offset': 20,\n",
       "   'type': 'word',\n",
       "   'position': 9},\n",
       "  {'token': '깊',\n",
       "   'start_offset': 22,\n",
       "   'end_offset': 23,\n",
       "   'type': 'word',\n",
       "   'position': 11},\n",
       "  {'token': '나무',\n",
       "   'start_offset': 25,\n",
       "   'end_offset': 27,\n",
       "   'type': 'word',\n",
       "   'position': 13},\n",
       "  {'token': '바람',\n",
       "   'start_offset': 29,\n",
       "   'end_offset': 31,\n",
       "   'type': 'word',\n",
       "   'position': 15},\n",
       "  {'token': '흔들리',\n",
       "   'start_offset': 33,\n",
       "   'end_offset': 36,\n",
       "   'type': 'word',\n",
       "   'position': 17},\n",
       "  {'token': '않',\n",
       "   'start_offset': 38,\n",
       "   'end_offset': 39,\n",
       "   'type': 'word',\n",
       "   'position': 19}]}"
      ]
     },
     "execution_count": 87,
     "metadata": {},
     "output_type": "execute_result"
    }
   ],
   "source": [
    "requests.get(url, json={\"analyzer\": \"nori\", \"text\": text}).json()"
   ]
  },
  {
   "cell_type": "markdown",
   "id": "873f0600-1700-45d1-8cbb-b0655ecb1dd5",
   "metadata": {},
   "source": [
    "## 3. 인덱싱\n",
    "\n",
    "- 인덱스 만들기\n",
    "- 실제 검색결과에 어떤 영향을 미치는지 보기"
   ]
  },
  {
   "cell_type": "code",
   "execution_count": null,
   "id": "965b8677-861d-4d95-ae26-42c0d9af349e",
   "metadata": {},
   "outputs": [],
   "source": [
    "from opensearchpy import OpenSearch, Search"
   ]
  },
  {
   "cell_type": "code",
   "execution_count": 89,
   "id": "84d5dd69-b668-4251-84d8-f1bcbf7affa8",
   "metadata": {},
   "outputs": [],
   "source": [
    "client = OpenSearch(\n",
    "    hosts = [{'host': host, 'port': port}],\n",
    "    http_compress = True,\n",
    "    use_ssl = False,\n",
    "    verify_certs = True,\n",
    "    ssl_assert_hostname = False,\n",
    "    ssl_show_warn = False,\n",
    ")"
   ]
  },
  {
   "cell_type": "code",
   "execution_count": 90,
   "id": "4301b928-a95a-4588-a5c9-b5b8f5aa2adc",
   "metadata": {},
   "outputs": [
    {
     "data": {
      "text/plain": [
       "{'acknowledged': True,\n",
       " 'shards_acknowledged': True,\n",
       " 'index': 'korean-tokenizer-test'}"
      ]
     },
     "execution_count": 90,
     "metadata": {},
     "output_type": "execute_result"
    }
   ],
   "source": [
    "index_name = 'korean-tokenizer-test'\n",
    "index_body = {\n",
    "    'settings': {\n",
    "        'index': {\n",
    "            'number_of_shards': 1,\n",
    "        },\n",
    "        \"analysis\": {\n",
    "          \"analyzer\": {\n",
    "            \"nori_analyzer\": {\n",
    "              \"type\": \"custom\",\n",
    "              \"char_filter\": [\n",
    "                  \"html_strip\",\n",
    "              ],\n",
    "              \"tokenizer\": \"nori_tokenizer\",\n",
    "              \"filter\": [\n",
    "                  \"nori_number\", \"nori_readingform\", \"lowercase\"\n",
    "              ],\n",
    "              \"decompound_mode\": \"mixed\"\n",
    "            }\n",
    "          }\n",
    "        }\n",
    "    },\n",
    "    'mappings': {\n",
    "        'properties': {\n",
    "            'text_plain': {'type': 'text'},\n",
    "            'text_nori': {'type': 'text', 'analyzer': 'nori_analyzer'},\n",
    "        },\n",
    "    },\n",
    "}\n",
    "\n",
    "response = client.indices.create(index_name, body=index_body)\n",
    "response"
   ]
  },
  {
   "cell_type": "code",
   "execution_count": 91,
   "id": "38c59dea-d305-4128-8228-c9b225e831d1",
   "metadata": {},
   "outputs": [
    {
     "data": {
      "text/plain": [
       "{'korean-tokenizer-test': {'aliases': {},\n",
       "  'mappings': {'properties': {'text_nori': {'type': 'text',\n",
       "     'analyzer': 'nori_analyzer'},\n",
       "    'text_plain': {'type': 'text'}}},\n",
       "  'settings': {'index': {'replication': {'type': 'DOCUMENT'},\n",
       "    'number_of_shards': '1',\n",
       "    'provided_name': 'korean-tokenizer-test',\n",
       "    'creation_date': '1732112990520',\n",
       "    'analysis': {'analyzer': {'nori_analyzer': {'filter': ['nori_number',\n",
       "        'nori_readingform',\n",
       "        'lowercase'],\n",
       "       'decompound_mode': 'mixed',\n",
       "       'char_filter': ['html_strip'],\n",
       "       'type': 'custom',\n",
       "       'tokenizer': 'nori_tokenizer'}}},\n",
       "    'number_of_replicas': '1',\n",
       "    'uuid': 'WYs-_-_oS0W0BIztl204Fw',\n",
       "    'version': {'created': '136397827'}}}}}"
      ]
     },
     "execution_count": 91,
     "metadata": {},
     "output_type": "execute_result"
    }
   ],
   "source": [
    "client.indices.get(index_name)"
   ]
  },
  {
   "cell_type": "markdown",
   "id": "faaeeec1-17c8-4807-9e3c-35325783708f",
   "metadata": {},
   "source": [
    "- 데이터 추가"
   ]
  },
  {
   "cell_type": "code",
   "execution_count": 92,
   "id": "2b888fff-d87c-4167-b233-d9a22712a4fb",
   "metadata": {},
   "outputs": [
    {
     "data": {
      "text/plain": [
       "{'_index': 'korean-tokenizer-test',\n",
       " '_id': 'GZH6SZMBIi5xLZLK2Hgr',\n",
       " '_version': 1,\n",
       " 'result': 'created',\n",
       " '_shards': {'total': 2, 'successful': 1, 'failed': 0},\n",
       " '_seq_no': 0,\n",
       " '_primary_term': 1}"
      ]
     },
     "execution_count": 92,
     "metadata": {},
     "output_type": "execute_result"
    }
   ],
   "source": [
    "client.index(index_name, body={'text_plain': text, 'text_nori': text})"
   ]
  },
  {
   "cell_type": "code",
   "execution_count": 93,
   "id": "5cee8cff-ae3e-4fff-b84e-881c22fbdd7e",
   "metadata": {},
   "outputs": [],
   "source": [
    "# client.indices.delete(index=index_name)"
   ]
  },
  {
   "cell_type": "markdown",
   "id": "664740be-8efc-42d6-ade6-eed8d4db19c5",
   "metadata": {},
   "source": [
    "**char_filter**\n",
    "- html_strip: html 태그를 제거하고, &nbsp; 등을 문자로 디코딩\n",
    "\n",
    "**filter**\n",
    "- nori_readingform: 한자를 한글로 변환\n",
    "- nori_number: 숫자 변환\n",
    "\n",
    "> bold 태그가 사라지고 `2023년 한국` 으로 저장된 것을 볼 수 있다."
   ]
  },
  {
   "cell_type": "code",
   "execution_count": 95,
   "id": "32e96d59-f821-4e09-8aaf-d20da430655d",
   "metadata": {},
   "outputs": [
    {
     "data": {
      "text/plain": [
       "{'tokens': [{'token': '2023',\n",
       "   'start_offset': 3,\n",
       "   'end_offset': 8,\n",
       "   'type': 'word',\n",
       "   'position': 0},\n",
       "  {'token': '년',\n",
       "   'start_offset': 8,\n",
       "   'end_offset': 9,\n",
       "   'type': 'word',\n",
       "   'position': 1},\n",
       "  {'token': '한국',\n",
       "   'start_offset': 10,\n",
       "   'end_offset': 16,\n",
       "   'type': 'word',\n",
       "   'position': 2},\n",
       "  {'token': '뿌리',\n",
       "   'start_offset': 18,\n",
       "   'end_offset': 20,\n",
       "   'type': 'word',\n",
       "   'position': 3},\n",
       "  {'token': '가',\n",
       "   'start_offset': 20,\n",
       "   'end_offset': 21,\n",
       "   'type': 'word',\n",
       "   'position': 4},\n",
       "  {'token': '깊',\n",
       "   'start_offset': 22,\n",
       "   'end_offset': 23,\n",
       "   'type': 'word',\n",
       "   'position': 5},\n",
       "  {'token': '은',\n",
       "   'start_offset': 23,\n",
       "   'end_offset': 24,\n",
       "   'type': 'word',\n",
       "   'position': 6},\n",
       "  {'token': '나무',\n",
       "   'start_offset': 25,\n",
       "   'end_offset': 27,\n",
       "   'type': 'word',\n",
       "   'position': 7},\n",
       "  {'token': '는',\n",
       "   'start_offset': 27,\n",
       "   'end_offset': 28,\n",
       "   'type': 'word',\n",
       "   'position': 8},\n",
       "  {'token': '바람',\n",
       "   'start_offset': 29,\n",
       "   'end_offset': 31,\n",
       "   'type': 'word',\n",
       "   'position': 9},\n",
       "  {'token': '에',\n",
       "   'start_offset': 31,\n",
       "   'end_offset': 32,\n",
       "   'type': 'word',\n",
       "   'position': 10},\n",
       "  {'token': '흔들리',\n",
       "   'start_offset': 33,\n",
       "   'end_offset': 36,\n",
       "   'type': 'word',\n",
       "   'position': 11},\n",
       "  {'token': '지',\n",
       "   'start_offset': 36,\n",
       "   'end_offset': 37,\n",
       "   'type': 'word',\n",
       "   'position': 12},\n",
       "  {'token': '않',\n",
       "   'start_offset': 38,\n",
       "   'end_offset': 39,\n",
       "   'type': 'word',\n",
       "   'position': 13},\n",
       "  {'token': '는다',\n",
       "   'start_offset': 39,\n",
       "   'end_offset': 41,\n",
       "   'type': 'word',\n",
       "   'position': 14}]}"
      ]
     },
     "execution_count": 95,
     "metadata": {},
     "output_type": "execute_result"
    }
   ],
   "source": [
    "client.indices.analyze(\n",
    "    index=index_name,\n",
    "    body={\"text\": text, \"analyzer\": \"nori_analyzer\"}\n",
    ")"
   ]
  },
  {
   "cell_type": "markdown",
   "id": "3e3230fb-a8cd-425c-afae-d9a24f50df52",
   "metadata": {},
   "source": [
    "## 3. 검색하기\n",
    "\n",
    "- plain 은 문서에서 `흔들리면` 으로 인덱싱 되었기 때문에 부분 단어인 `흔들리` 는 검색 안됨\n",
    "- nori 문서는 `흔들리` + `지` 으로 인덱싱 되었기 때문에, `흔들리` 토큰이 일치하므로 검색 가능"
   ]
  },
  {
   "cell_type": "code",
   "execution_count": 96,
   "id": "e0b240fd-3d18-4bfd-80a5-65db0fcabb57",
   "metadata": {},
   "outputs": [
    {
     "data": {
      "text/plain": [
       "[]"
      ]
     },
     "execution_count": 96,
     "metadata": {},
     "output_type": "execute_result"
    }
   ],
   "source": [
    "s = Search(using=client, index=index_name).query(\"match\", text_plain=\"흔들리\")\n",
    "result = s.execute()\n",
    "result.hits.hits"
   ]
  },
  {
   "cell_type": "code",
   "execution_count": 97,
   "id": "b40c583b-4036-4294-9b80-17f6384c9979",
   "metadata": {},
   "outputs": [
    {
     "data": {
      "text/plain": [
       "[{'_index': 'korean-tokenizer-test', '_id': 'GZH6SZMBIi5xLZLK2Hgr', '_score': 0.2876821, '_source': {'text_plain': '<b>이천이십삼년 韓國</b>, 뿌리가 깊은 나무는 바람에 흔들리지 않는다', 'text_nori': '<b>이천이십삼년 韓國</b>, 뿌리가 깊은 나무는 바람에 흔들리지 않는다'}}]"
      ]
     },
     "execution_count": 97,
     "metadata": {},
     "output_type": "execute_result"
    }
   ],
   "source": [
    "s = Search(using=client, index=index_name).query(\"match\", text_nori=\"흔들리면\")\n",
    "result = s.execute()\n",
    "result.hits.hits"
   ]
  },
  {
   "cell_type": "markdown",
   "id": "5de3f7e0-eb44-4b62-81be-5eb66c12e4e7",
   "metadata": {},
   "source": [
    "- 숫자로 써도 nori_number 필터에 의해 인덱싱이 숫자로 되어 있는 것을 확인 "
   ]
  },
  {
   "cell_type": "code",
   "execution_count": 101,
   "id": "91d874ba-9a64-4f07-afa2-e9632f02f5ba",
   "metadata": {},
   "outputs": [
    {
     "data": {
      "text/plain": [
       "[]"
      ]
     },
     "execution_count": 101,
     "metadata": {},
     "output_type": "execute_result"
    }
   ],
   "source": [
    "s = Search(using=client, index=index_name).query(\"match\", text_plain=\"2023\")\n",
    "result = s.execute()\n",
    "result.hits.hits"
   ]
  },
  {
   "cell_type": "code",
   "execution_count": 98,
   "id": "43f5ffc4-827b-430f-9740-1903be188203",
   "metadata": {},
   "outputs": [
    {
     "data": {
      "text/plain": [
       "[{'_index': 'korean-tokenizer-test', '_id': 'GZH6SZMBIi5xLZLK2Hgr', '_score': 0.2876821, '_source': {'text_plain': '<b>이천이십삼년 韓國</b>, 뿌리가 깊은 나무는 바람에 흔들리지 않는다', 'text_nori': '<b>이천이십삼년 韓國</b>, 뿌리가 깊은 나무는 바람에 흔들리지 않는다'}}]"
      ]
     },
     "execution_count": 98,
     "metadata": {},
     "output_type": "execute_result"
    }
   ],
   "source": [
    "s = Search(using=client, index=index_name).query(\"match\", text_nori=\"2023\")\n",
    "result = s.execute()\n",
    "result.hits.hits"
   ]
  },
  {
   "cell_type": "markdown",
   "id": "2197bd40-d21a-48b8-88ad-a189cf07eaa8",
   "metadata": {},
   "source": [
    "- plain 은 `<b>` 태그가 `b` 로 인덱싱 되므로 검색 가능 \n",
    "- nori 는 태그는 삭제되어 인덱싱 되도록 설정했기 때문에 검색 불가능"
   ]
  },
  {
   "cell_type": "code",
   "execution_count": 102,
   "id": "0ebf73e1-86f8-4ae1-b171-c82a9b9730d4",
   "metadata": {},
   "outputs": [
    {
     "data": {
      "text/plain": [
       "[{'_index': 'korean-tokenizer-test', '_id': 'GZH6SZMBIi5xLZLK2Hgr', '_score': 0.39556286, '_source': {'text_plain': '<b>이천이십삼년 韓國</b>, 뿌리가 깊은 나무는 바람에 흔들리지 않는다', 'text_nori': '<b>이천이십삼년 韓國</b>, 뿌리가 깊은 나무는 바람에 흔들리지 않는다'}}]"
      ]
     },
     "execution_count": 102,
     "metadata": {},
     "output_type": "execute_result"
    }
   ],
   "source": [
    "s = Search(using=client, index=index_name).query(\"match\", text_plain=\"<b>\")\n",
    "result = s.execute()\n",
    "result.hits.hits"
   ]
  },
  {
   "cell_type": "code",
   "execution_count": 103,
   "id": "7c27e479-1eef-4d52-829d-d501c4aa4e5a",
   "metadata": {},
   "outputs": [
    {
     "data": {
      "text/plain": [
       "[]"
      ]
     },
     "execution_count": 103,
     "metadata": {},
     "output_type": "execute_result"
    }
   ],
   "source": [
    "s = Search(using=client, index=index_name).query(\"match\", text_nori=\"<b>\")\n",
    "result = s.execute()\n",
    "result.hits.hits"
   ]
  },
  {
   "cell_type": "code",
   "execution_count": null,
   "id": "4cf43631-11df-44d9-b4b8-d3e9de22acc3",
   "metadata": {},
   "outputs": [],
   "source": []
  }
 ],
 "metadata": {
  "kernelspec": {
   "display_name": "Python 3 (ipykernel)",
   "language": "python",
   "name": "python3"
  },
  "language_info": {
   "codemirror_mode": {
    "name": "ipython",
    "version": 3
   },
   "file_extension": ".py",
   "mimetype": "text/x-python",
   "name": "python",
   "nbconvert_exporter": "python",
   "pygments_lexer": "ipython3",
   "version": "3.10.14"
  }
 },
 "nbformat": 4,
 "nbformat_minor": 5
}
